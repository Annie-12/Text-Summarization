{
 "cells": [
  {
   "cell_type": "code",
   "execution_count": 1,
   "metadata": {},
   "outputs": [],
   "source": [
    "from nltk import sent_tokenize\n"
   ]
  },
  {
   "cell_type": "code",
   "execution_count": 18,
   "metadata": {},
   "outputs": [
    {
     "name": "stdout",
     "output_type": "stream",
     "text": [
      "process is starting\n",
      "It is always the problem of how to change an ideal into reality that gets in the way of both the leaders and the people. A thought is not a deed and never will be.\n",
      "\n",
      "We are not magic men. We cannot imagine something into existence - especially a change of behaviour. Just as we have been conditioned to be what we are now - greedy, competitive, stingy, mean - so we need to learn to love, to learn to be free.\n",
      "\n",
      "Freedom is a difficult thing to handle. How many people given the complete freedom to do whatever they like would die of boredom? No structure, no rules, no compulsion to work from nine to five, no one telling us when to do this, do that - it sounds great until we try it. We've learned to be directed by so many others - by mommy, daddy, teacher, principal, boss, policeman, politician, bureaucrat, etc. - that freedom from all this could be overwhelming. Imagine: making love, eating, sleeping, playing ... and ... ho, hum, now what? Where do you go and what do you do when the trip ends?\n",
      "\n",
      "Give people freedom and they'll do all the things they thought they never had a chance to do. But that won't take very long. And after that? After that, my friend, it'll be time to make your life meaningful.\n",
      "\n",
      "Can you do it if you're free? Can you do it if others no longer require you to do what they say is best? Authority is only necessary for those who need it. Most of us need it because we've been taught to believe that we have to be concerned about others. For instance: 'You're selfish if you think of yourself,' or even: 'Ask not what your country can do for you, ask what you can do for your country.'\n",
      "\n",
      "Sorry friends, but that's all Christian, authoritarian, manipulative bullshit. You've got to get in touch with what your real needs are before you can begin to be of value to others. The other-directedness of Americans that is promoted by mom, God, and the flag has pushed us to the precipice of Fascism in this country. We are no longer able to think for ourselves, we think for the 'good' of others. 'Who am I?', 'What do I really want out of life?' These are considered selfish questions. So a whole society goes down the drain. So it is with communes, whose members are too eager to help their curious 'brothers,' who find it remarkably easy to create all kinds of physical and figurative mess and then leave it for the members to clean up.\n",
      "\n",
      "Challenges to this traditional, other-directed, do-gooder mystique are met with admonitions and scoldings: 'Why are you so selfish, all the time thinking only about yourself? Don't you have any regard for the rights of others?' (The intent and frequent effect of such a question is to make one feel guilty and consequently willing to conform to the 'altruistic' wishes of others.) And because we have become so confused about what is really important to us as individuals, we believe these admonitions - and with good reason. Our demands are indeed 'selfish'. As we are no longer capable of knowing who we really are, we are compelled and desire to be like someone (everyone) else. We feel we must have money, a new car, power, position, prestige, and an all too material sense of personal worth.\n",
      "\n",
      "\n",
      "\n",
      "\n",
      "\n",
      "Sentences 37 ['It is always the problem of how to change an ideal into reality that gets in the way of both the leaders and the people.', 'A thought is not a deed and never will be.', 'We are not magic men.', 'We cannot imagine something into existence - especially a change of behaviour.', 'Just as we have been conditioned to be what we are now - greedy, competitive, stingy, mean - so we need to learn to love, to learn to be free.', 'Freedom is a difficult thing to handle.', 'How many people given the complete freedom to do whatever they like would die of boredom?', 'No structure, no rules, no compulsion to work from nine to five, no one telling us when to do this, do that - it sounds great until we try it.', \"We've learned to be directed by so many others - by mommy, daddy, teacher, principal, boss, policeman, politician, bureaucrat, etc.\", '- that freedom from all this could be overwhelming.', 'Imagine: making love, eating, sleeping, playing ... and ... ho, hum, now what?', 'Where do you go and what do you do when the trip ends?', \"Give people freedom and they'll do all the things they thought they never had a chance to do.\", \"But that won't take very long.\", 'And after that?', \"After that, my friend, it'll be time to make your life meaningful.\", \"Can you do it if you're free?\", 'Can you do it if others no longer require you to do what they say is best?', 'Authority is only necessary for those who need it.', \"Most of us need it because we've been taught to believe that we have to be concerned about others.\", \"For instance: 'You're selfish if you think of yourself,' or even: 'Ask not what your country can do for you, ask what you can do for your country.'\", \"Sorry friends, but that's all Christian, authoritarian, manipulative bullshit.\", \"You've got to get in touch with what your real needs are before you can begin to be of value to others.\", 'The other-directedness of Americans that is promoted by mom, God, and the flag has pushed us to the precipice of Fascism in this country.', \"We are no longer able to think for ourselves, we think for the 'good' of others.\", \"'Who am I?\", \"', 'What do I really want out of life?'\", 'These are considered selfish questions.', 'So a whole society goes down the drain.', \"So it is with communes, whose members are too eager to help their curious 'brothers,' who find it remarkably easy to create all kinds of physical and figurative mess and then leave it for the members to clean up.\", \"Challenges to this traditional, other-directed, do-gooder mystique are met with admonitions and scoldings: 'Why are you so selfish, all the time thinking only about yourself?\", \"Don't you have any regard for the rights of others?'\", \"(The intent and frequent effect of such a question is to make one feel guilty and consequently willing to conform to the 'altruistic' wishes of others.)\", 'And because we have become so confused about what is really important to us as individuals, we believe these admonitions - and with good reason.', \"Our demands are indeed 'selfish'.\", 'As we are no longer capable of knowing who we really are, we are compelled and desire to be like someone (everyone) else.', 'We feel we must have money, a new car, power, position, prestige, and an all too material sense of personal worth.']\n"
     ]
    }
   ],
   "source": [
    "\n",
    "print(\"process is starting\")\n",
    "f = open(\"inputfile.txt\", encoding=\"utf8\")\n",
    "text = \"\"\n",
    "for x in f:\n",
    "    print(x)\n",
    "    text += x\n",
    "\n",
    "# tokenize the sentences\n",
    "\n",
    "sentences = sent_tokenize(text.strip())\n",
    "print('Sentences', len(sentences), sentences)\n",
    "\n"
   ]
  },
  {
   "cell_type": "code",
   "execution_count": 4,
   "metadata": {},
   "outputs": [
    {
     "name": "stderr",
     "output_type": "stream",
     "text": [
      "WARNING (theano.configdefaults): g++ not available, if using conda: `conda install m2w64-toolchain`\n",
      "C:\\Users\\Public\\anaconda3\\lib\\site-packages\\theano\\configdefaults.py:560: UserWarning: DeprecationWarning: there is no c++ compiler.This is deprecated and with Theano 0.11 a c++ compiler will be mandatory\n",
      "  warnings.warn(\"DeprecationWarning: there is no c++ compiler.\"\n",
      "WARNING (theano.configdefaults): g++ not detected ! Theano will be unable to execute optimized C-implementations (for both CPU and GPU) and will default to Python implementations. Performance will be severely degraded. To remove this warning, set Theano flags cxx to an empty string.\n",
      "WARNING (theano.tensor.blas): Using NumPy C-API based implementation for BLAS functions.\n"
     ]
    },
    {
     "name": "stdout",
     "output_type": "stream",
     "text": [
      "Loading model parameters...\n",
      "Compiling encoders...\n",
      "Loading tables...\n",
      "Packing up...\n",
      "26\n",
      "11\n",
      "6\n",
      "14\n",
      "35\n",
      "8\n",
      "17\n",
      "30\n",
      "10\n",
      "20\n",
      "4\n",
      "16\n",
      "9\n",
      "18\n",
      "21\n",
      "36\n",
      "24\n",
      "27\n",
      "19\n",
      "12\n",
      "43\n",
      "13\n",
      "7\n"
     ]
    }
   ],
   "source": [
    "import skipthoughts\n",
    "\n",
    "# You would need to download pre-trained models first\n",
    "model = skipthoughts.load_model()\n",
    "encoder = skipthoughts.Encoder(model)\n",
    "encoded =  encoder.encode(sentences)"
   ]
  },
  {
   "cell_type": "code",
   "execution_count": 8,
   "metadata": {},
   "outputs": [],
   "source": [
    "import numpy as np\n",
    "from sklearn.cluster import KMeans\n",
    "\n",
    "n_clusters =int (np.ceil(len(encoded)**0.5))\n",
    "kmeans = KMeans(n_clusters=n_clusters)\n",
    "kmeans = kmeans.fit(encoded)"
   ]
  },
  {
   "cell_type": "code",
   "execution_count": 16,
   "metadata": {},
   "outputs": [],
   "source": [
    "from sklearn.metrics import pairwise_distances_argmin_min\n",
    "\n",
    "avg = []\n",
    "for j in range(n_clusters):\n",
    "    idx = np.where(kmeans.labels_ == j)[0]\n",
    "    avg.append(np.mean(idx))\n",
    "\n",
    "closest, _ = pairwise_distances_argmin_min(kmeans.cluster_centers_, encoded)\n",
    "ordering = sorted(range(n_clusters), key=lambda k: avg[k])\n",
    "summary = ' '.join([sentences[closest[idx]] for idx in ordering])"
   ]
  },
  {
   "cell_type": "code",
   "execution_count": 15,
   "metadata": {},
   "outputs": [
    {
     "name": "stdout",
     "output_type": "stream",
     "text": [
      "Can you do it if you're free? Freedom is a difficult thing to handle. Just as we have been conditioned to be what we are now - greedy, competitive, stingy, mean - so we need to learn to love, to learn to be free. And because we have become so confused about what is really important to us as individuals, we believe these admonitions - and with good reason. Imagine: making love, eating, sleeping, playing ... and ... ho, hum, now what? Don't you have any regard for the rights of others?' (The intent and frequent effect of such a question is to make one feel guilty and consequently willing to conform to the 'altruistic' wishes of others.)\n"
     ]
    }
   ],
   "source": [
    "print(summary)"
   ]
  },
  {
   "cell_type": "code",
   "execution_count": null,
   "metadata": {},
   "outputs": [],
   "source": []
  }
 ],
 "metadata": {
  "kernelspec": {
   "display_name": "Python 3",
   "language": "python",
   "name": "python3"
  },
  "language_info": {
   "codemirror_mode": {
    "name": "ipython",
    "version": 3
   },
   "file_extension": ".py",
   "mimetype": "text/x-python",
   "name": "python",
   "nbconvert_exporter": "python",
   "pygments_lexer": "ipython3",
   "version": "3.8.5"
  }
 },
 "nbformat": 4,
 "nbformat_minor": 4
}
